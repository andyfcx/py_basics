{
 "cells": [
  {
   "cell_type": "code",
   "execution_count": 1,
   "metadata": {},
   "outputs": [],
   "source": [
    "x = 3"
   ]
  },
  {
   "cell_type": "code",
   "execution_count": 2,
   "metadata": {},
   "outputs": [
    {
     "data": {
      "text/plain": [
       "3"
      ]
     },
     "execution_count": 2,
     "metadata": {},
     "output_type": "execute_result"
    }
   ],
   "source": [
    "x"
   ]
  },
  {
   "cell_type": "code",
   "execution_count": 3,
   "metadata": {},
   "outputs": [
    {
     "name": "stdout",
     "output_type": "stream",
     "text": [
      "Untitled.ipynb         \u001b[34mparse_html\u001b[m\u001b[m             \u001b[34msample\u001b[m\u001b[m\n",
      "Untitled1.ipynb        python_keywords.md\n",
      "know_your_system.ipynb readme.md\n"
     ]
    }
   ],
   "source": [
    "!ls"
   ]
  },
  {
   "cell_type": "code",
   "execution_count": 1,
   "metadata": {},
   "outputs": [],
   "source": [
    "import requests"
   ]
  },
  {
   "cell_type": "code",
   "execution_count": 2,
   "metadata": {},
   "outputs": [],
   "source": [
    "p = requests.get(\"https://www.flickr.com/\")"
   ]
  },
  {
   "cell_type": "code",
   "execution_count": 7,
   "metadata": {},
   "outputs": [
    {
     "output_type": "execute_result",
     "data": {
      "text/plain": [
       "\\t\\t\\tdialogWrapper.classList.add(\\'pageLoadingDialogWrapper\\');\\n\\t\\t\\n\\t\\t\\tvar dialog = document.createElement(\\'div\\');\\n\\t\\t\\tdialog.classList.add(\\'pageLoadingDialog\\');\\n\\t\\t\\n\\t\\t\\tdialog.innerHTML = \\'<h1>Oops!</h1><br/>An issue occurred while loading.<br/><br/>Please refresh the page.\\';\\n\\t\\t\\n\\t\\t\\tdialogWrapper.appendChild(dialog);\\n\\t\\t\\t(document.body || document.getElementsByTagName(\\'body\\')[0]).appendChild(dialogWrapper);\\n\\t\\t\\tdialog.onclick = function(){\\n\\t\\t\\t\\tdocument.location.reload();\\n\\t\\t\\t};\\n\\t\\t}\\n\\t\\t\\n\\t\\tvar initFcn = function(Y) {\\n\\t\\t\\n\\t\\t\\tY.ClientApp.init({\\n\\t\\t\\t\\tinitialView: {\\n\\t\\t\\t\\t\\tname: \\'sohp-slideshow-sohp-e-view\\',\\n\\t\\t\\t\\t\\tparams: {\"whichTabIsActiveOnRender\":\"none\",\"isOwner\":false,\"UA\":{\"isBot\":false,\"isSharingBot\":false,\"isUnsupportedBrowser\":false,\"isMobileBrowser\":false,\"isMobileOrTablet\":false,\"isFacebook\":false,\"isReallyUnsupportedBrowser\":false,\"os\":\"\",\"isWebview\":false,\"isGooglePageSpeedMobile\":false,\"isGooglePageSpeedDesktop\":false,\"isEdge\":false,\"isOldWindows\":false},\"isMobile\":false,\"adConfig\":{\"billboard\":[{\"desc\":\"feed_billboard\",\"name\":\"\\\\/21833886396\\\\/Flickr_FeedBillboard_Desktop_970x250\",\"ad_unit_desktop\":\"\\\\/21833886396\\\\/Flickr_Feed_Desktop_Leaderboard\",\"ad_unit_mobile\":\"\\\\/21833886396\\\\/Flickr_Feed_Mobile_Leaderboard\"}],\"feed\":[{\"desc\":\"feed_card_A\",\"name\":\"\\\\/21833886396\\\\/Flickr_FeedCard_A_Desktop_300x250\",\"ad_unit_desktop\":\"\\\\/21833886396\\\\/Flickr_FeedCard_A_Desktop_300x250\",\"ad_unit_mobile\":\"\\\\/21833886396\\\\/Flickr_FeedCard_A_Mobile_300x250\"},{\"desc\":\"feed_card_B\",\"name\":\"\\\\/21833886396\\\\/Flickr_FeedCard_B_Desktop_300x250\",\"ad_unit_desktop\":\"\\\\/21833886396\\\\/Flickr_FeedCard_B_Desktop_300x250\",\"ad_unit_mobile\":\"\\\\/21833886396\\\\/Flickr_FeedCard_B_Mobile_300x250\"},{\"desc\":\"feed_card_C\",\"name\":\"\\\\/21833886396\\\\/Flickr_FeedCard_C_Desktop_300x250\",\"ad_unit_desktop\":\"\\\\/21833886396\\\\/Flickr_FeedCard_C_Desktop_300x250\",\"ad_unit_mobile\":\"\\\\/21833886396\\\\/Flickr_FeedCard_C_Mobile_300x250\"},{\"desc\":\"feed_card_D\",\"name\":\"\\\\/21833886396\\\\/Flickr_FeedCard_D_Desktop_300x250\",\"ad_unit_desktop\":\"\\\\/21833886396\\\\/Flickr_FeedCard_D_Desktop_300x250\",\"ad_unit_mobile\":\"\\\\/21833886396\\\\/Flickr_FeedCard_D_Mobile_300x250\"},{\"desc\":\"feed_card_E\",\"name\":\"\\\\/21833886396\\\\/Flickr_FeedCard_E_Desktop_300x250\",\"ad_unit_desktop\":\"\\\\/21833886396\\\\/Flickr_FeedCard_E_Desktop_300x250\",\"ad_unit_mobile\":\"\\\\/21833886396\\\\/Flickr_FeedCard_E_Mobile_300x250\"},{\"desc\":\"feed_card_F\",\"name\":\"\\\\/21833886396\\\\/Flickr_FeedCard_F_Desktop_300x250\",\"ad_unit_desktop\":\"\\\\/21833886396\\\\/Flickr_FeedCard_F_Desktop_300x250\",\"ad_unit_mobile\":\"\\\\/21833886396\\\\/Flickr_FeedCard_F_Mobile_300x250\"},{\"desc\":\"feed_sidebar\",\"ad_unit_desktop\":\"\\\\/21833886396\\\\/Flickr_FeedSidebar_Desktop\",\"ad_unit_mobile\":\"\\\\/21833886396\\\\/Flickr_FeedSidebar_Mobile\"}],\"interstitials\":[{\"desc\":\"photopage\",\"name\":\"\\\\/21833886396\\\\/Flickr_PhotoStream_Desktop_Multi\",\"ad_unit_desktop\":\"\\\\/21833886396\\\\/Flickr_PhotoStream_Desktop_Multi\",\"ad_unit_mobile\":\"\\\\/21833886396\\\\/Flickr_PhotoStream_Mobile_Multi\",\"ad_timer_start_value\":5}],\"photopage\":[{\"desc\":\"photopage-card\",\"name\":\"\\\\/21833886396\\\\/gpt-photopage-card\",\"ad_unit_desktop\":\"\\\\/21833886396\\\\/Flickr_PhotoPage_Desktop_Sidebar\",\"ad_unit_mobile\":\"\\\\/21833886396\\\\/Flickr_PhotoPage_Mobile_300x250\"},{\"desc\":\"sticky-photopage-card\",\"ad_unit_desktop\":\"\\\\/21833886396\\\\/Flickr_1x1\",\"ad_unit_mobile\":\"\\\\/21833886396\\\\/Flickr_1x1\"}],\"search\":[{\"desc\":\"marquee-search\",\"ad_unit_desktop\":\"\\\\/21833886396\\\\/Flickr_Search_Desktop\",\"ad_unit_mobile\":\"\\\\/21833886396\\\\/Flickr_Search_Mobile\"}]}},\\n\\t\\t\\t\\t\\tspaceId: 792600582\\n\\t\\t\\t\\t},\\n\\t\\t\\t\\tmodelExport: {\"legend\":[],\"main\":{\"sohp-slideshow-photo-models\":[{\"_flickrModelRegistry\":\"sohp-slideshow-photo-models\",\"photoList\":[{\"id\":\"50605807088\",\"title\":\"Desert Beauty\",\"userName\":\"Christoph Fischer\",\"photoUrl\":\"\\\\/photos\\\\/christoph_fischer\\\\/50605807088\",\"url\":\"https:\\\\/\\\\/combo.staticflickr.com\\\\/ap\\\\/build\\\\/images\\\\/sohp\\\\/2020-top-25\\\\/Desert_Beauty_Christoph_Fischer.jpg\"},{\"id\":\"50390069077\",\"title\":\"Sheep in the woods II\",\"userName\":\"James Mills\",\"photoUrl\":\"\\\\/photos\\\\/86954319@N04\\\\/50390069077\\\\/\",\"url\":\"https:\\\\/\\\\/combo.staticflickr.com\\\\/ap\\\\/build\\\\/images\\\\/sohp\\\\/2020-top-25\\\\/Sheep_in_the_woods_II_James_Mills.jpg\"},{\"id\":\"49852239266\",\"title\":\"Dawn of Another Day\",\"userName\":\"Sky Matthews\",\"photoUrl\":\"\\\\/photos\\\\/skymatthews\\\\/49852239266\",\"url\":\"https:\\\\/\\\\/combo.staticflickr.com\\\\/ap\\\\/build\\\\/images\\\\/sohp\\\\/2020-top-25\\\\/Dawn_of_Another_Day_Sky_Matthews.jpg\"},{\"id\":\"50508946826\",\"title\":\"Cool Power commended-LPOTY\",\"userName\":\"Steve Cole\",\"photoUrl\":\"\\\\/photos\\\\/kingnik\\\\/50508946826\",\"url\":\"https:\\\\/\\\\/combo.staticflickr.com\\\\/ap\\\\/build\\\\/images\\\\/sohp\\\\/2020-top-25\\\\/Cool_Power_commended-LPOTY_UK_Steve_Cole.jpg\"},{\"id\":\"50371215583\",\"title\":\"Happy Birthday Adam!\",\"userName\":\"Iwona Podlasinska\",\"photoUrl\":\"\\\\/photos\\\\/iwonapodlasinska\\\\/50371215583\",\"url\":\"https:\\\\/\\\\/combo.staticflickr.com\\\\/ap\\\\/build\\\\/images\\\\/sohp\\\\/2020-top-25\\\\/Happy_Birthday_Adam_Iwona_Podlasinska.jpg\"},{\"id\":\"50559585627\",\"title\":\"Secluded\",\"userName\":\"Pete Rowbottom\",\"photoUrl\":\"\\\\/photos\\\\/pete37038\\\\/50559585627\",\"url\":\"https:\\\\/\\\\/combo.staticflickr.com\\\\/ap\\\\/build\\\\/images\\\\/sohp\\\\/2020-top-25\\\\/Secluded_Pete_Rowbottom.jpg\"},{\"id\":\"50553575881\",\"title\":\"Tree and Morning Mist\",\"userName\":\"Jos Buurmans\",\"photoUrl\":\"\\\\/photos\\\\/josbuurmansphotography\\\\/50553575881\",\"url\":\"https:\\\\/\\\\/combo.staticflickr.com\\\\/ap\\\\/build\\\\/images\\\\/sohp\\\\/2020-top-25\\\\/Tree_and_Morning_Mist_Jos_Buurmans.jpg\"},{\"id\":\"50021068932\",\"title\":\"sunset 1663\",\"userName\":\"Junji Aoyama\",\"photoUrl\":\"\\\\/photos\\\\/142474085@N03\\\\/50021068932\",\"url\":\"https:\\\\/\\\\/combo.staticflickr.com\\\\/ap\\\\/build\\\\/images\\\\/sohp\\\\/2020-top-25\\\\/sunset_1663_Junji_Aoyama.jpg\"},{\"id\":\"50515727882\",\"title\":\"A Time of Change\",\"userName\":\"Rachel Brokaw\",\"photoUrl\":\"\\\\/photos\\\\/missinterpretations\\\\/50515727882\",\"url\":\"https:\\\\/\\\\/combo.staticflickr.com\\\\/ap\\\\/build\\\\/images\\\\/sohp\\\\/2020-top-25\\\\/A_Time_of_Change_Rachel_Brokaw.jpg\"},{\"id\":\"50416691972\",\"title\":\"Fantasy Island\",\"userName\":\"Daniel Cheong\",\"photoUrl\":\"\\\\/photos\\\\/danielcheong\\\\/50416691972\",\"url\":\"https:\\\\/\\\\/combo.staticflickr.com\\\\/ap\\\\/build\\\\/images\\\\/sohp\\\\/2020-top-25\\\\/Fantasy_Island_Daniel_Cheong.jpg\"},{\"id\":\"50579895532\",\"title\":\"Europe\\'s best view\",\"userName\":\"Fabian Fortmann\",\"photoUrl\":\"\\\\/photos\\\\/fabianf_\\\\/50579895532\",\"url\":\"https:\\\\/\\\\/combo.staticflickr.com\\\\/ap\\\\/build\\\\/images\\\\/sohp\\\\/2020-top-25\\\\/Europes_best_View_Fabian_Fortmann.jpg\"},{\"id\":\"50115566652\",\"title\":\"If Only We Could Turn Back Time\",\"userName\":\"Anna Kwa\",\"photoUrl\":\"\\\\/photos\\\\/annakwa\\\\/50115566652\",\"url\":\"https:\\\\/\\\\/combo.staticflickr.com\\\\/ap\\\\/build\\\\/images\\\\/sohp\\\\/2020-top-25\\\\/If_Only_We_Could_Turn_Back_Time_Anna_Kwa.jpg\"},{\"id\":\"50597817398\",\"title\":\"Mists of Renfrew\",\"userName\":\"Adam Gibbs\",\"photoUrl\":\"\\\\/photos\\\\/adamgibbsphotography\\\\/50597817398\",\"url\":\"https:\\\\/\\\\/combo.staticflickr.com\\\\/ap\\\\/build\\\\/images\\\\/sohp\\\\/2020-top-25\\\\/Mists_of_renfrew_Adam_Gibbs.jpg\"},{\"id\":\"49779688327\",\"title\":\"Frosch, Bokeh 2\",\"userName\":\"axelfw\",\"photoUrl\":\"\\\\/photos\\\\/axelfw\\\\/49779688327\",\"url\":\"https:\\\\/\\\\/combo.staticflickr.com\\\\/ap\\\\/build\\\\/images\\\\/sohp\\\\/2020-top-25\\\\/Frosch_Bokeh_2_Axel_F.jpg\"},{\"id\":\"49368797831\",\"title\":\"Catwalk am Bahnhof Z\\xc3\\xbcrich Oerlikon\",\"userName\":\"Peter Arn\",\"photoUrl\":\"\\\\/photos\\\\/peter-arn\\\\/49368797831\",\"url\":\"https:\\\\/\\\\/combo.staticflickr.com\\\\/ap\\\\/build\\\\/images\\\\/sohp\\\\/2020-top-25\\\\/Catwalk_am_Bahnhof_Zurich_Oerlikon_Peter_Arn.jpg\"},{\"id\":\"50305871576\",\"title\":\"Benito\",\"userName\":\"Ria Putzker\",\"photoUrl\":\"\\\\/photos\\\\/144312453@N08\\\\/50305871576\",\"url\":\"https:\\\\/\\\\/combo.staticflickr.com\\\\/ap\\\\/build\\\\/images\\\\/sohp\\\\/2020-top-25\\\\/benito_druck.jpg\"},{\"id\":\"50253482992\",\"title\":\"The Dark LOVE BOAT 61 \\\\/87\",\"userName\":\"Pierre G\\xc3\\xa9ly-Fort\",\"photoUrl\":\"\\\\/photos\\\\/photodilettante-fr\\\\/50253482992\",\"url\":\"https:\\\\/\\\\/combo.staticflickr.com\\\\/ap\\\\/build\\\\/images\\\\/sohp\\\\/2020-top-25\\\\/Pierre_Gely-Fort_The_Dark_Love_Boat.jpg\"},{\"id\":\"50278165453\",\"title\":\"Albuquerque, New Mexico\",\"userName\":\"Jorge Guadalupe Liz\\xc3\\xa1rraga\",\"photoUrl\":\"\\\\/photos\\\\/elzopilote\\\\/50278165453\",\"url\":\"https:\\\\/\\\\/combo.staticflickr.com\\\\/ap\\\\/build\\\\/images\\\\/sohp\\\\/2020-top-25\\\\/Untitled_Jorge_Guadalupe_Lizarraga.jpg\"}],\"id\":\"1\"}]},\"version\":\"cyclical-json@2.1.3\"},\\n\\t\\t\\t\\tauth: auth,\\n\\t\\t\\t\\taudienceTargets: {\"signedIn\":false},\\n\\t\\t\\t\\treqId: reqId,\\n\\t\\t\\t\\tparams: {\"protocol\":\"https\",\"buckets\":{\"photo_page\":\"scrappy_beta_signed_out\",\"https_all\":\"ssl_redirect_enabled\",\"search_page\":\"unified_page_plus\",\"photostream_page\":\"reboot\",\"albums_page\":\"reboot\",\"favorites_page\":\"reboot\",\"groups_page\":\"reboot_groups_members\",\"explore_page\":\"reboot\",\"celeb_search\":\"celeb_search\",\"advanced_search_page\":\"unified_page_redesign\",\"unified_groups_search_page\":\"unified_page_redesign\",\"unified_people_search_page\":\"unified_page_redesign\",\"android_ads\":\"no_ad\",\"zoom\":\"zoom\",\"enable_wallart\":\"no_wallart_group\",\"enable_subscription_discounts\":\"enabled\",\"enable_personalized_group_recommendations\":\"coldstart_no_perso\",\"rebuild_photo_count_star_photo_search_shard\":\"disabled\",\"enable_aggregation\":\"no_agg_group\",\"embedr_v2\":\"embedr_v1\",\"lh_edge_pod\":\"normal\",\"native_sharing\":\"native_sharing\",\"autosync_notifications\":\"autosync_pn_off\",\"new_stats\":\"new_stats\",\"public_domain\":\"public_domain_enabled\",\"feed_reskin\":\"reskin\",\"autotags_mdbm\":\"current\",\"photo_page_autotags\":\"show_autotags\",\"shared_entity_views\":\"enabled\",\"magic_view_cache_side\":\"side_a\",\"magic_view_date_taken_sort\":\"date_taken\",\"mobile_photo_page\":\"new_page\",\"curation_tools\":\"default\",\"gn_upload_icon\":\"enabled\",\"embedr_v3\":\"embedr-v3\",\"rebootify-tags\":\"rebootv1\",\"rebootify-places\":\"classic\",\"refetch_on_navigate\":\"enabled\",\"signup_download_modal_test\":\"enabled\",\"enable_album_sort_on_reboot\":\"disabled\",\"flickvr\":\"enabled\",\"follow_spam\":\"disabled\",\"tumblr_embed_share\":\"enabled\",\"mini_signup_footer\":\"control\",\"camera_roll_preview\":\"no-cr-preview\",\"photoscore_rank_in_search\":\"enable_photoscore_rank\",\"buy_button_tests\":\"buyButton\",\"photo_list_buy_button_tests\":\"buy\",\"reboot_xhr_lib_tests\":\"new\",\"reboot_view_loading_tests\":\"blocking\",\"rebootify_feed\":\"classic\",\"reboot_notes\":\"notes\",\"css_rollups\":\"rollups\",\"html5_video\":\"video\",\"signed_out_home_page\":\"optimized\",\"signed_out_home_page_view_counting\":\"enabled\",\"email_verify\":\"disabled\",\"similarity_search\":\"disabled\",\"rebootify_profile\":\"rebootwhelp\",\"flickr_reactions\":\"normal\",\"comment_flagging\":\"normal\",\"flickr_photo_editor\":\"disabled\",\"partner_account_banner\":\"disabled\",\"offline_download\":\"enabled-aws-batch\",\"thorn_moderation-videos\":\"disable-thorn\",\"thorn_moderation_photos\":\"enable-thorn\",\"feed_static_content\":\"disabled\",\"privacy_footer\":\"enabled\",\"add_to_curations_views\":\"enabled\",\"photostream_edit\":\"enabled\",\"digitalriver\":\"prodandrealorder\",\"digitalrivercors\":\"disabled\",\"checkout\":\"production\",\"btdrmigration\":\"optinchargeimmediately\",\"btdrmigrationzerodollar\":\"disabled\",\"new_group_opt_out\":\"enabled\",\"feedback_modal\":\"disabled\",\"rebootify_galleries\":\"rebootnewlimitbanner\",\"continuation_galleries\":\"disabled\",\"new_cache_groups\":\"disabled\",\"photo_perm_recheck\":\"enabled\",\"gdpr_data_request_ui\":\"enabled\",\"xmen_double_writes\":\"disabled\",\"legacy_pro_badge\":\"enabled\",\"all_pros_unlimited_storage\":\"enabled\",\"refencing_properk_updates\":\"enabled\",\"refencing_announcement\":\"enabled\",\"refencing_announcement_banner\":\"enabled\",\"gift_pro\":\"enabled\",\"deprecate_partner_pros\":\"enabled\",\"new_user_account_card\":\"enabledwclassic\",\"upload-blocking\":\"enabled\",\"enable-adobe-analytics\":\"enabled\",\"enable-fb-pixel-analytics\":\"enabled\",\"xmen_video_uploads\":\"enabled\",\"enable_footer_help_link_move\":\"disabled\",\"enable_bulk_license_change_blocking\":\"enabled\",\"dynamo_read\":\"enabled\",\"identity_site\":\"login_picker\",\"limited_time_pro_text\":\"disabled\",\"backfill_photos_count_license_0\":\"disabled\",\"sohp-A-B-C-Test\":\"E\",\"dedup_web_uploadr\":\"disabled\",\"enable_thanos_overlay\":\"enabledv2\",\"use_AWS_DB_for_APIs\":\"disabled\",\"disable_memcache_use\":\"disabled\",\"db_latency_testing_timings\":\"disabled\",\"bypass_cerb\":\"disabled\",\"enable_psylocke\":\"disabled\",\"enable_forced_migration\":\"disabled\",\"enable_print_service\":\"enabled\",\"enable_gh_jobs_page\":\"enabled\",\"enable_create_groups\":\"enabled\",\"enable_aws_account_search\":\"enabled\",\"enable_aws_photo_search\":\"enabled\",\"enable_aws_group_search\":\"enabled\",\"enable_aws_group_discussion_search\":\"enabled\",\"enable_aws_forums_search\":\"enabled\",\"enable_events_page\":\"enabled\",\"enable_black_friday_banner_campaign\":\"enabled\",\"enable_new_notifications\":\"disabled\",\"enable_read_new_notifications\":\"disabled\",\"enable_push_notifications\":\"enabled\",\"enable_navigator_share\":\"enabled\",\"enable_sift_explore_photo_workflow\":\"disabled\",\"enable_notifications_refactor\":\"disabled\",\"enable_2020_new_notifications\":\"disabled\",\"enable_explore_v2\":\"disabled\",\"enable_feed_2020\":\"disabled\",\"enable_smugmug_perks\":\"disabled\",\"enable_public_prints\":\"disabled\",\"enable_ad_interstitial_timer\":\"enabled\",\"enable_spam_urls\":\"enabled\",\"enable_search_page_ads\":\"enabled\",\"enable_photo_editor_v4\":\"disabled\",\"enable_search_saved_queries\":\"disabled\",\"enable_saved_searches\":\"disabled\",\"enable_custom_text_parser\":\"disabled\",\"enable_cookie_consent\":\"enabled_cookie_consent_live\",\"enable_photo_page_comments_component\":\"disabled\",\"enable_upload_notifications\":\"disabled\",\"enable_stripe_for_subscriptions\":\"enabled_live\",\"avalara_tax_environment\":\"live\",\"bot_throttle\":\"not-blocking\",\"enable_automoderation_workflow\":\"disabled\",\"enable_bt_dr_to_stripe_migration\":\"enabled\",\"enable_sticky_ads\":\"enabled\",\"enable_native_share\":\"enabled\",\"enable_new_logo\":\"enabled\",\"enable_preserve_video_metadata\":\"disabled\",\"enable_sift_random_workflow\":\"disabled\",\"enable_settings_sharing_page\":\"disabled\",\"enable_iterable_sync\":\"disabled\",\"enable_new_notifications_banners\":\"disabled\",\"enable_audience_tgt\":\"enabled\",\"enable_new_abuse_modal\":\"disabled\"},\"slice\":51,\"referrer\":\"default\",\"flipper\":{\"buckets\":true,\"reboot_photo_page_optin_type\":\"forced_in\",\"rebootify-groups-list\":true,\"rebootify-group-home\":true,\"rebootify-group-pool\":true,\"rebootify-group-discussion\":true,\"rebootify-group-discussions-list\":true,\"rebootify-group-members\":true,\"enable-scrappy-photo-page\":true,\"enable-scrappy-notes\":true,\"enable-scrappy-notes-deleting\":true,\"enable-scrappy-notes-editing\":true,\"enable-scrappy-notes-adding\":true,\"enable-csp\":true,\"enable-groups-optout\":true,\"rebootify-stats\":1,\"browser-upgrade-interstitial\":true,\"enable-hover-account-menu\":true,\"enable-groups-discussion-optout\":true,\"enable-search-optout\":true,\"enable-max-editing-limit\":true,\"enable-payouts\":true,\"native-sharing\":true,\"enable-album-download\":true,\"enable-just-your-album-download\":true,\"search-tiles\":true,\"search-exclude-people\":true,\"evict-models-on-navigate\":true,\"enable-viewer-nsid-check\":true,\"enable-pro-badge\":1,\"enable-people-groups\":true,\"enable-slender-advanced-search\":true,\"enable-full-share-entity-page-rendering-for-bots\":true,\"enable-embedr-in-albums\":true,\"enable-non-blocking-css\":true,\"enable-shared-entity-download\":true,\"enable-new-mobile-photo-page\":1,\"enable-album-pagination\":true,\"enable-signed-out-cta-test\":true,\"enable-signed-out-download-cta-test\":true,\"enable-tag-page-link-on-photo-page\":true,\"enable-vr\":true,\"enable-vr-landing\":true,\"enable-tumblr-embed-share\":true,\"enable-signed-out-commenting\":true,\"enable-resource-performance-timing\":true,\"disable-uploadr-ads\":true,\"buy-button-in-photolist\":true,\"enable-pro-only-desktop-uploadr\":true,\"enable-adobe-discount\":true,\"enable-xhr-lib-for-client-xhrs\":true,\"enable-developer-panel\":true,\"enable-adobe-2017-april1-terms\":true,\"enable-photopage-interstitial-ad\":true,\"enable-photopage-interstitial-ad-for-signedin-free-users\":true,\"enable-photopage-card-ad\":true,\"enable-feed-banner-ad\":true,\"enable-feed-card-ads\":true,\"rebootify-galleries\":true,\"enable-megadroparound\":true,\"enable-offline-downloadr\":true,\"enable-photostream-edit\":true,\"enable-top-25-sohp-2017\":true,\"enable-2018-tos\":true,\"enable-adobe-analytics\":true,\"enable-gdpr-data-request\":true,\"enable-sift-hermes-beacon\":true,\"enable-payment-methods\":true,\"featured-gallery-banners\":true,\"enable-cognito-change-email-link\":true,\"enable-2018-user-account-card\":true,\"enable-pro-badge-toggle\":true,\"enable-gift-pro\":true,\"enable-upload-blocking\":true,\"enable-upload-limit-messages\":true,\"disable-bulk-license-changes\":true,\"enable-sohp-A-B-C-Test\":\"E\",\"enable-photo-prints-prod-url\":true,\"enable-gh-jobs-page\":true,\"enable-prints-page\":true,\"enable-events-page\":true,\"enable-group-creation\":true,\"enable-two-step-zoom\":true,\"enable-navigator-share\":true,\"enable-ad-timer-lock\":true,\"enable-snowplow-tracking\":true,\"enable-search-ads\":true,\"enable-cookie-consent-execution-hermes\":true,\"enable-stripe-checkout\":true,\"enable-sticky-ads\":true,\"enable-native-share\":true,\"enable-new-logo\":true,\"enable-cookie-consent-execution-hermes-live\":true,\"enable-audience-tgt\":true},\"lang\":\"en-US\"},\\n\\t\\t\\t\\trouteTiming: 0,\\n\\t\\t\\t\\trouteConfig: {\"module\":\"home-route\",\"path\":\"\\\\/\",\"public\":true}\\n\\t\\t\\t})\\n\\t\\t\\n\\t\\t\\t.then(function() {\\n\\t\\t\\t\\tclearTimeout(clientAppVerifier);\\n\\t\\t\\t\\tinitOk = true;\\n\\t\\t\\n\\t\\t\\t\\tif (window.pageTiming) {\\n\\t\\t\\t\\t\\twindow.pageTiming.jsDone = new Date().getTime();\\n\\t\\t\\t\\t}\\n\\t\\t\\t}, function (ex) {\\n\\t\\t\\n\\t\\t\\t\\ttry {\\n\\t\\t\\t\\t\\tvar isUnsupportedBrowser = !!document.getElementById(\\'banner-unsupported-browser-bc\\');\\n\\t\\t\\n\\t\\t\\t\\t\\tif (isUnsupportedBrowser) {\\n\\t\\t\\t\\t\\t\\tsendRequest(\\'flickr.hermes.clientapp.unsupportedbrowserinitfail\\', \\'client app init fail on unsupported browser\\');\\n\\t\\t\\t\\t\\t\\tbeaconError(\\'Client app failure on unsupported browser: \\' + (ex && ex.message ? ex.message : ex), window.location.href, ex);\\n\\t\\t\\t\\t\\t} else {\\n\\t\\t\\t\\t\\t\\tsendRequest(\\'flickr.hermes.clientapp.initfail\\', \\'client app init fail\\');\\n\\t\\t\\t\\t\\t\\tbeaconError(\\'Client app failure: \\' + (ex && ex.message ? ex.message : ex), window.location.href, ex);\\n\\t\\t\\n\\t\\t\\t\\t\\t}\\n\\t\\t\\t\\t} catch (e) {\\n\\t\\t\\t\\t\\tsendRequest(\\'flickr.hermes.clientapp.initfail\\', \\'client app init fail\\');\\n\\t\\t\\t\\t\\tbeaconError(\\'Client app failure: \\' + (ex && ex.message ? ex.message : ex), window.location.href, ex);\\n\\t\\t\\n\\t\\t\\t\\t}\\n\\t\\t\\n\\t\\t\\t});\\n\\t\\t};\\n\\t\\n\\t\\tvar useSuccess = function (Y, status) {\\n\\t\\t\\n\\t\\t\\tif (status && !status.success) {\\n\\t\\t\\n\\t\\t\\t\\tif (comboRetry === 0) {\\n\\t\\t\\t\\t\\tcomboRetry++;\\n\\t\\t\\n\\t\\t\\t\\t\\tif (typeof console !== \\'undefined\\' && console.warn) {\\n\\t\\t\\t\\t\\t\\tconsole.warn(\\'There was an error loading client modules, retrying: \\' + status.msg);\\n\\t\\t\\t\\t\\t}\\n\\t\\t\\n\\t\\t\\t\\t\\tif (sendRequest) {\\n\\t\\t\\t\\t\\t\\tsendRequest(\\'flickr.hermes.clientapp.moduleretry\\', \\'client app module loading fail, retrying\\');\\n\\t\\t\\t\\t\\t}\\n\\t\\t\\n\\t\\t\\t\\t\\tY.use(\\'client-app\\', \\'sohp-slideshow-sohp-e-view\\', \\'sohp-slideshow-photo-models\\',  useSuccess);\\n\\t\\t\\n\\t\\t\\t\\t} else {\\n\\t\\t\\n\\t\\t\\t\\t\\tif (typeof console !== \\'undefined\\' && console.error) {\\n\\t\\t\\t\\t\\t\\tconsole.error(\\'There was an error loading client modules: \\' + status.msg);\\n\\t\\t\\t\\t\\t}\\n\\t\\t\\n\\t\\t\\t\\t\\tif (sendRequest) {\\n\\t\\t\\t\\t\\t\\tsendRequest(\\'flickr.hermes.clientapp.modulefail\\', \\'client app module loading fail\\');\\n\\t\\t\\t\\t\\t}\\n\\t\\t\\n\\t\\t\\t\\t\\tbeaconError(\\'There was an error loading client modules: \\' + JSON.stringify(typeof status === \\'object\\' ? status : {}));\\n\\t\\t\\n\\t\\t\\t\\t\\tdisplayError();\\n\\t\\t\\n\\t\\t\\t\\t}\\n\\t\\t\\t} else {\\n\\t\\t\\t\\tinitFcn(Y);\\n\\t\\t\\t}\\n\\t\\t};\\n\\t\\n\\t\\n\\t\\t\\tclientAppVerifier = setTimeout(function() {\\n\\t\\t\\t\\tif (!initOk) {\\n\\t\\t\\t\\t}\\n\\t\\t\\t}, clientAppTimeLimit);\\n\\t\\n\\t\\t\\tapp.yui.use(\\'client-app\\', \\'sohp-slideshow-sohp-e-view\\', \\'sohp-slideshow-photo-models\\',  useSuccess);\\n\\t\\n\\t</script>\\n\\n\\t<link id=\"rollup-css\" rel=\"stylesheet\" href=\"https://combo.staticflickr.com/ap/build/stylesheets/rollup-bb658fea.css\" type=\"text/css\" media=\"screen\">\\n</body>\\n</html>\\n\\n'"
      ]
     },
     "metadata": {},
     "execution_count": 7
    }
   ],
   "source": [
    "p.content"
   ]
  },
  {
   "cell_type": "code",
   "execution_count": 10,
   "metadata": {},
   "outputs": [
    {
     "data": {
      "text/plain": [
       "['__attrs__',\n",
       " '__bool__',\n",
       " '__class__',\n",
       " '__delattr__',\n",
       " '__dict__',\n",
       " '__dir__',\n",
       " '__doc__',\n",
       " '__enter__',\n",
       " '__eq__',\n",
       " '__exit__',\n",
       " '__format__',\n",
       " '__ge__',\n",
       " '__getattribute__',\n",
       " '__getstate__',\n",
       " '__gt__',\n",
       " '__hash__',\n",
       " '__init__',\n",
       " '__init_subclass__',\n",
       " '__iter__',\n",
       " '__le__',\n",
       " '__lt__',\n",
       " '__module__',\n",
       " '__ne__',\n",
       " '__new__',\n",
       " '__nonzero__',\n",
       " '__reduce__',\n",
       " '__reduce_ex__',\n",
       " '__repr__',\n",
       " '__setattr__',\n",
       " '__setstate__',\n",
       " '__sizeof__',\n",
       " '__str__',\n",
       " '__subclasshook__',\n",
       " '__weakref__',\n",
       " '_content',\n",
       " '_content_consumed',\n",
       " '_next',\n",
       " 'apparent_encoding',\n",
       " 'close',\n",
       " 'connection',\n",
       " 'content',\n",
       " 'cookies',\n",
       " 'elapsed',\n",
       " 'encoding',\n",
       " 'headers',\n",
       " 'history',\n",
       " 'is_permanent_redirect',\n",
       " 'is_redirect',\n",
       " 'iter_content',\n",
       " 'iter_lines',\n",
       " 'json',\n",
       " 'links',\n",
       " 'next',\n",
       " 'ok',\n",
       " 'raise_for_status',\n",
       " 'raw',\n",
       " 'reason',\n",
       " 'request',\n",
       " 'status_code',\n",
       " 'text',\n",
       " 'url']"
      ]
     },
     "execution_count": 10,
     "metadata": {},
     "output_type": "execute_result"
    }
   ],
   "source": [
    "dir(p)"
   ]
  },
  {
   "cell_type": "code",
   "execution_count": null,
   "metadata": {},
   "outputs": [],
   "source": []
  }
 ],
 "metadata": {
  "kernelspec": {
   "display_name": "Python 3",
   "language": "python",
   "name": "python3"
  },
  "language_info": {
   "codemirror_mode": {
    "name": "ipython",
    "version": 3
   },
   "file_extension": ".py",
   "mimetype": "text/x-python",
   "name": "python",
   "nbconvert_exporter": "python",
   "pygments_lexer": "ipython3",
   "version": "3.8.3-final"
  }
 },
 "nbformat": 4,
 "nbformat_minor": 4
}